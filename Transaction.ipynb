{
  "nbformat": 4,
  "nbformat_minor": 0,
  "metadata": {
    "colab": {
      "provenance": [],
      "authorship_tag": "ABX9TyOS9vYdG/ZDDp9a3+dt+1G4",
      "include_colab_link": true
    },
    "kernelspec": {
      "name": "python3",
      "display_name": "Python 3"
    },
    "language_info": {
      "name": "python"
    }
  },
  "cells": [
    {
      "cell_type": "markdown",
      "metadata": {
        "id": "view-in-github",
        "colab_type": "text"
      },
      "source": [
        "<a href=\"https://colab.research.google.com/github/TimurMMD/transaction_project/blob/main/Transaction.ipynb\" target=\"_parent\"><img src=\"https://colab.research.google.com/assets/colab-badge.svg\" alt=\"Open In Colab\"/></a>"
      ]
    },
    {
      "cell_type": "markdown",
      "source": [
        "#**Project of analyzing and exploring transaction data.**\n",
        "  \n",
        "The link to this dataset:\n",
        "https://www.kaggle.com/datasets/faizaniftikharjanjua/metaverse-financial-transactions-dataset\n",
        "\n",
        "---\n",
        "\n",
        "\n",
        "\n",
        "> *This dataset provides blockchain financial transactions within the Open Metaverse, designed for the development and testing of advanced analytics in fraud detection, risk assessment, and user behavior analysis. It encompasses 78,600 transactions across a diverse set of parameters, including transaction types, amounts, user activity profiles, and risk scores. Each record features detailed attributes such as timestamps, sending and receiving addresses, transaction categories, geographical regions, IP prefixes, and calculated risk levels, providing a comprehensive foundation for research and development in blockchain technologies and security within virtual environments.*\n",
        "\n",
        "\n",
        "---\n",
        "\n",
        "The structure of the Project:\n",
        "* [1. Exploratory Analysis](https://colab.research.google.com/drive/1e6TWBdaDXTd9MOHgCbnVpkjqxTBoMjJZ#scrollTo=9qMouJWFDnrT&line=1&uniqifier=1)\n",
        "* [2. Visualization Analysis](https://colab.research.google.com/drive/1e6TWBdaDXTd9MOHgCbnVpkjqxTBoMjJZ#scrollTo=xe0y3i__8nP_)\n",
        "* [3. Data Preprocessing](https://colab.research.google.com/drive/1e6TWBdaDXTd9MOHgCbnVpkjqxTBoMjJZ#scrollTo=rmeKj2GFIF6V)\n",
        "* [4. Machine Learning](https://colab.research.google.com/drive/1e6TWBdaDXTd9MOHgCbnVpkjqxTBoMjJZ#scrollTo=4GMkWWLOIMWI)"
      ],
      "metadata": {
        "id": "MQ2lp818AjQm"
      }
    },
    {
      "cell_type": "code",
      "execution_count": null,
      "metadata": {
        "id": "w-6qy2oDAdAV"
      },
      "outputs": [],
      "source": [
        "# Import libraries to work with data\n",
        "import pandas as pd\n",
        "import numpy as np\n",
        "import matplotlib.pyplot as plt\n",
        "import seaborn as sns\n",
        "\n",
        "from sklearn.preprocessing import LabelEncoder\n",
        "from sklearn.preprocessing import StandardScaler\n",
        "\n",
        "from sklearn.model_selection import train_test_split\n",
        "from sklearn.model_selection import KFold\n",
        "from sklearn.model_selection import cross_val_score\n",
        "from sklearn.model_selection import GridSearchCV\n",
        "\n",
        "from sklearn.tree import DecisionTreeClassifier\n",
        "from sklearn.neighbors import KNeighborsClassifier\n",
        "from sklearn.ensemble import AdaBoostClassifier, GradientBoostingClassifier, RandomForestClassifier, ExtraTreesClassifier\n",
        "from sklearn.metrics import classification_report, confusion_matrix, accuracy_score\n"
      ]
    },
    {
      "cell_type": "code",
      "source": [
        "# Upload the data and show the first 5 rows to explore it\n",
        "data = pd.read_csv('/content/metaverse_transactions_dataset.csv')\n",
        "data.head()"
      ],
      "metadata": {
        "colab": {
          "base_uri": "https://localhost:8080/",
          "height": 399
        },
        "id": "mwGPcGe0Alr4",
        "outputId": "0f6dd091-52bd-4ca0-a9b6-1e28657f0e83"
      },
      "execution_count": null,
      "outputs": [
        {
          "output_type": "execute_result",
          "data": {
            "text/plain": [
              "             timestamp  hour_of_day  \\\n",
              "0  2022-04-11 12:47:27           12   \n",
              "1  2022-06-14 19:12:46           19   \n",
              "2  2022-01-18 16:26:59           16   \n",
              "3  2022-06-15 09:20:04            9   \n",
              "4  2022-02-18 14:35:30           14   \n",
              "\n",
              "                              sending_address  \\\n",
              "0  0x9d32d0bf2c00f41ce7ca01b66e174cc4dcb0c1da   \n",
              "1  0xd6e251c23cbf52dbd472f079147873e655d8096f   \n",
              "2  0x2e0925b922fed01f6a85d213ae2718f54b8ca305   \n",
              "3  0x93efefc25fcaf31d7695f28018d7a11ece55457f   \n",
              "4  0xad3b8de45d63f5cce28aef9a82cf30c397c6ceb9   \n",
              "\n",
              "                            receiving_address      amount transaction_type  \\\n",
              "0  0x39f82e1c09bc6d7baccc1e79e5621ff812f50572  796.949206         transfer   \n",
              "1  0x51e8fbe24f124e0e30a614e14401b9bbfed5384c    0.010000         purchase   \n",
              "2  0x52c7911879f783d590af45bda0c0ef2b8536706f  778.197390         purchase   \n",
              "3  0x8ac3b7bd531b3a833032f07d4e47c7af6ea7bace  300.838358         transfer   \n",
              "4  0x6fdc047c2391615b3facd79b4588c7e9106e49f2  775.569344             sale   \n",
              "\n",
              "  location_region  ip_prefix  login_frequency  session_duration  \\\n",
              "0          Europe    192.000                3                48   \n",
              "1   South America    172.000                5                61   \n",
              "2            Asia    192.168                3                74   \n",
              "3   South America    172.000                8               111   \n",
              "4          Africa    172.160                6               100   \n",
              "\n",
              "  purchase_pattern    age_group  risk_score        anomaly  \n",
              "0          focused  established       18.75       low_risk  \n",
              "1          focused  established       25.00       low_risk  \n",
              "2          focused  established       31.25       low_risk  \n",
              "3       high_value      veteran       36.75       low_risk  \n",
              "4       high_value      veteran       62.50  moderate_risk  "
            ],
            "text/html": [
              "\n",
              "  <div id=\"df-d0190b10-2f63-4983-9a13-d8845328fb50\" class=\"colab-df-container\">\n",
              "    <div>\n",
              "<style scoped>\n",
              "    .dataframe tbody tr th:only-of-type {\n",
              "        vertical-align: middle;\n",
              "    }\n",
              "\n",
              "    .dataframe tbody tr th {\n",
              "        vertical-align: top;\n",
              "    }\n",
              "\n",
              "    .dataframe thead th {\n",
              "        text-align: right;\n",
              "    }\n",
              "</style>\n",
              "<table border=\"1\" class=\"dataframe\">\n",
              "  <thead>\n",
              "    <tr style=\"text-align: right;\">\n",
              "      <th></th>\n",
              "      <th>timestamp</th>\n",
              "      <th>hour_of_day</th>\n",
              "      <th>sending_address</th>\n",
              "      <th>receiving_address</th>\n",
              "      <th>amount</th>\n",
              "      <th>transaction_type</th>\n",
              "      <th>location_region</th>\n",
              "      <th>ip_prefix</th>\n",
              "      <th>login_frequency</th>\n",
              "      <th>session_duration</th>\n",
              "      <th>purchase_pattern</th>\n",
              "      <th>age_group</th>\n",
              "      <th>risk_score</th>\n",
              "      <th>anomaly</th>\n",
              "    </tr>\n",
              "  </thead>\n",
              "  <tbody>\n",
              "    <tr>\n",
              "      <th>0</th>\n",
              "      <td>2022-04-11 12:47:27</td>\n",
              "      <td>12</td>\n",
              "      <td>0x9d32d0bf2c00f41ce7ca01b66e174cc4dcb0c1da</td>\n",
              "      <td>0x39f82e1c09bc6d7baccc1e79e5621ff812f50572</td>\n",
              "      <td>796.949206</td>\n",
              "      <td>transfer</td>\n",
              "      <td>Europe</td>\n",
              "      <td>192.000</td>\n",
              "      <td>3</td>\n",
              "      <td>48</td>\n",
              "      <td>focused</td>\n",
              "      <td>established</td>\n",
              "      <td>18.75</td>\n",
              "      <td>low_risk</td>\n",
              "    </tr>\n",
              "    <tr>\n",
              "      <th>1</th>\n",
              "      <td>2022-06-14 19:12:46</td>\n",
              "      <td>19</td>\n",
              "      <td>0xd6e251c23cbf52dbd472f079147873e655d8096f</td>\n",
              "      <td>0x51e8fbe24f124e0e30a614e14401b9bbfed5384c</td>\n",
              "      <td>0.010000</td>\n",
              "      <td>purchase</td>\n",
              "      <td>South America</td>\n",
              "      <td>172.000</td>\n",
              "      <td>5</td>\n",
              "      <td>61</td>\n",
              "      <td>focused</td>\n",
              "      <td>established</td>\n",
              "      <td>25.00</td>\n",
              "      <td>low_risk</td>\n",
              "    </tr>\n",
              "    <tr>\n",
              "      <th>2</th>\n",
              "      <td>2022-01-18 16:26:59</td>\n",
              "      <td>16</td>\n",
              "      <td>0x2e0925b922fed01f6a85d213ae2718f54b8ca305</td>\n",
              "      <td>0x52c7911879f783d590af45bda0c0ef2b8536706f</td>\n",
              "      <td>778.197390</td>\n",
              "      <td>purchase</td>\n",
              "      <td>Asia</td>\n",
              "      <td>192.168</td>\n",
              "      <td>3</td>\n",
              "      <td>74</td>\n",
              "      <td>focused</td>\n",
              "      <td>established</td>\n",
              "      <td>31.25</td>\n",
              "      <td>low_risk</td>\n",
              "    </tr>\n",
              "    <tr>\n",
              "      <th>3</th>\n",
              "      <td>2022-06-15 09:20:04</td>\n",
              "      <td>9</td>\n",
              "      <td>0x93efefc25fcaf31d7695f28018d7a11ece55457f</td>\n",
              "      <td>0x8ac3b7bd531b3a833032f07d4e47c7af6ea7bace</td>\n",
              "      <td>300.838358</td>\n",
              "      <td>transfer</td>\n",
              "      <td>South America</td>\n",
              "      <td>172.000</td>\n",
              "      <td>8</td>\n",
              "      <td>111</td>\n",
              "      <td>high_value</td>\n",
              "      <td>veteran</td>\n",
              "      <td>36.75</td>\n",
              "      <td>low_risk</td>\n",
              "    </tr>\n",
              "    <tr>\n",
              "      <th>4</th>\n",
              "      <td>2022-02-18 14:35:30</td>\n",
              "      <td>14</td>\n",
              "      <td>0xad3b8de45d63f5cce28aef9a82cf30c397c6ceb9</td>\n",
              "      <td>0x6fdc047c2391615b3facd79b4588c7e9106e49f2</td>\n",
              "      <td>775.569344</td>\n",
              "      <td>sale</td>\n",
              "      <td>Africa</td>\n",
              "      <td>172.160</td>\n",
              "      <td>6</td>\n",
              "      <td>100</td>\n",
              "      <td>high_value</td>\n",
              "      <td>veteran</td>\n",
              "      <td>62.50</td>\n",
              "      <td>moderate_risk</td>\n",
              "    </tr>\n",
              "  </tbody>\n",
              "</table>\n",
              "</div>\n",
              "    <div class=\"colab-df-buttons\">\n",
              "\n",
              "  <div class=\"colab-df-container\">\n",
              "    <button class=\"colab-df-convert\" onclick=\"convertToInteractive('df-d0190b10-2f63-4983-9a13-d8845328fb50')\"\n",
              "            title=\"Convert this dataframe to an interactive table.\"\n",
              "            style=\"display:none;\">\n",
              "\n",
              "  <svg xmlns=\"http://www.w3.org/2000/svg\" height=\"24px\" viewBox=\"0 -960 960 960\">\n",
              "    <path d=\"M120-120v-720h720v720H120Zm60-500h600v-160H180v160Zm220 220h160v-160H400v160Zm0 220h160v-160H400v160ZM180-400h160v-160H180v160Zm440 0h160v-160H620v160ZM180-180h160v-160H180v160Zm440 0h160v-160H620v160Z\"/>\n",
              "  </svg>\n",
              "    </button>\n",
              "\n",
              "  <style>\n",
              "    .colab-df-container {\n",
              "      display:flex;\n",
              "      gap: 12px;\n",
              "    }\n",
              "\n",
              "    .colab-df-convert {\n",
              "      background-color: #E8F0FE;\n",
              "      border: none;\n",
              "      border-radius: 50%;\n",
              "      cursor: pointer;\n",
              "      display: none;\n",
              "      fill: #1967D2;\n",
              "      height: 32px;\n",
              "      padding: 0 0 0 0;\n",
              "      width: 32px;\n",
              "    }\n",
              "\n",
              "    .colab-df-convert:hover {\n",
              "      background-color: #E2EBFA;\n",
              "      box-shadow: 0px 1px 2px rgba(60, 64, 67, 0.3), 0px 1px 3px 1px rgba(60, 64, 67, 0.15);\n",
              "      fill: #174EA6;\n",
              "    }\n",
              "\n",
              "    .colab-df-buttons div {\n",
              "      margin-bottom: 4px;\n",
              "    }\n",
              "\n",
              "    [theme=dark] .colab-df-convert {\n",
              "      background-color: #3B4455;\n",
              "      fill: #D2E3FC;\n",
              "    }\n",
              "\n",
              "    [theme=dark] .colab-df-convert:hover {\n",
              "      background-color: #434B5C;\n",
              "      box-shadow: 0px 1px 3px 1px rgba(0, 0, 0, 0.15);\n",
              "      filter: drop-shadow(0px 1px 2px rgba(0, 0, 0, 0.3));\n",
              "      fill: #FFFFFF;\n",
              "    }\n",
              "  </style>\n",
              "\n",
              "    <script>\n",
              "      const buttonEl =\n",
              "        document.querySelector('#df-d0190b10-2f63-4983-9a13-d8845328fb50 button.colab-df-convert');\n",
              "      buttonEl.style.display =\n",
              "        google.colab.kernel.accessAllowed ? 'block' : 'none';\n",
              "\n",
              "      async function convertToInteractive(key) {\n",
              "        const element = document.querySelector('#df-d0190b10-2f63-4983-9a13-d8845328fb50');\n",
              "        const dataTable =\n",
              "          await google.colab.kernel.invokeFunction('convertToInteractive',\n",
              "                                                    [key], {});\n",
              "        if (!dataTable) return;\n",
              "\n",
              "        const docLinkHtml = 'Like what you see? Visit the ' +\n",
              "          '<a target=\"_blank\" href=https://colab.research.google.com/notebooks/data_table.ipynb>data table notebook</a>'\n",
              "          + ' to learn more about interactive tables.';\n",
              "        element.innerHTML = '';\n",
              "        dataTable['output_type'] = 'display_data';\n",
              "        await google.colab.output.renderOutput(dataTable, element);\n",
              "        const docLink = document.createElement('div');\n",
              "        docLink.innerHTML = docLinkHtml;\n",
              "        element.appendChild(docLink);\n",
              "      }\n",
              "    </script>\n",
              "  </div>\n",
              "\n",
              "\n",
              "<div id=\"df-f401acc3-0f0c-4c99-adbe-8310bafe5f89\">\n",
              "  <button class=\"colab-df-quickchart\" onclick=\"quickchart('df-f401acc3-0f0c-4c99-adbe-8310bafe5f89')\"\n",
              "            title=\"Suggest charts\"\n",
              "            style=\"display:none;\">\n",
              "\n",
              "<svg xmlns=\"http://www.w3.org/2000/svg\" height=\"24px\"viewBox=\"0 0 24 24\"\n",
              "     width=\"24px\">\n",
              "    <g>\n",
              "        <path d=\"M19 3H5c-1.1 0-2 .9-2 2v14c0 1.1.9 2 2 2h14c1.1 0 2-.9 2-2V5c0-1.1-.9-2-2-2zM9 17H7v-7h2v7zm4 0h-2V7h2v10zm4 0h-2v-4h2v4z\"/>\n",
              "    </g>\n",
              "</svg>\n",
              "  </button>\n",
              "\n",
              "<style>\n",
              "  .colab-df-quickchart {\n",
              "      --bg-color: #E8F0FE;\n",
              "      --fill-color: #1967D2;\n",
              "      --hover-bg-color: #E2EBFA;\n",
              "      --hover-fill-color: #174EA6;\n",
              "      --disabled-fill-color: #AAA;\n",
              "      --disabled-bg-color: #DDD;\n",
              "  }\n",
              "\n",
              "  [theme=dark] .colab-df-quickchart {\n",
              "      --bg-color: #3B4455;\n",
              "      --fill-color: #D2E3FC;\n",
              "      --hover-bg-color: #434B5C;\n",
              "      --hover-fill-color: #FFFFFF;\n",
              "      --disabled-bg-color: #3B4455;\n",
              "      --disabled-fill-color: #666;\n",
              "  }\n",
              "\n",
              "  .colab-df-quickchart {\n",
              "    background-color: var(--bg-color);\n",
              "    border: none;\n",
              "    border-radius: 50%;\n",
              "    cursor: pointer;\n",
              "    display: none;\n",
              "    fill: var(--fill-color);\n",
              "    height: 32px;\n",
              "    padding: 0;\n",
              "    width: 32px;\n",
              "  }\n",
              "\n",
              "  .colab-df-quickchart:hover {\n",
              "    background-color: var(--hover-bg-color);\n",
              "    box-shadow: 0 1px 2px rgba(60, 64, 67, 0.3), 0 1px 3px 1px rgba(60, 64, 67, 0.15);\n",
              "    fill: var(--button-hover-fill-color);\n",
              "  }\n",
              "\n",
              "  .colab-df-quickchart-complete:disabled,\n",
              "  .colab-df-quickchart-complete:disabled:hover {\n",
              "    background-color: var(--disabled-bg-color);\n",
              "    fill: var(--disabled-fill-color);\n",
              "    box-shadow: none;\n",
              "  }\n",
              "\n",
              "  .colab-df-spinner {\n",
              "    border: 2px solid var(--fill-color);\n",
              "    border-color: transparent;\n",
              "    border-bottom-color: var(--fill-color);\n",
              "    animation:\n",
              "      spin 1s steps(1) infinite;\n",
              "  }\n",
              "\n",
              "  @keyframes spin {\n",
              "    0% {\n",
              "      border-color: transparent;\n",
              "      border-bottom-color: var(--fill-color);\n",
              "      border-left-color: var(--fill-color);\n",
              "    }\n",
              "    20% {\n",
              "      border-color: transparent;\n",
              "      border-left-color: var(--fill-color);\n",
              "      border-top-color: var(--fill-color);\n",
              "    }\n",
              "    30% {\n",
              "      border-color: transparent;\n",
              "      border-left-color: var(--fill-color);\n",
              "      border-top-color: var(--fill-color);\n",
              "      border-right-color: var(--fill-color);\n",
              "    }\n",
              "    40% {\n",
              "      border-color: transparent;\n",
              "      border-right-color: var(--fill-color);\n",
              "      border-top-color: var(--fill-color);\n",
              "    }\n",
              "    60% {\n",
              "      border-color: transparent;\n",
              "      border-right-color: var(--fill-color);\n",
              "    }\n",
              "    80% {\n",
              "      border-color: transparent;\n",
              "      border-right-color: var(--fill-color);\n",
              "      border-bottom-color: var(--fill-color);\n",
              "    }\n",
              "    90% {\n",
              "      border-color: transparent;\n",
              "      border-bottom-color: var(--fill-color);\n",
              "    }\n",
              "  }\n",
              "</style>\n",
              "\n",
              "  <script>\n",
              "    async function quickchart(key) {\n",
              "      const quickchartButtonEl =\n",
              "        document.querySelector('#' + key + ' button');\n",
              "      quickchartButtonEl.disabled = true;  // To prevent multiple clicks.\n",
              "      quickchartButtonEl.classList.add('colab-df-spinner');\n",
              "      try {\n",
              "        const charts = await google.colab.kernel.invokeFunction(\n",
              "            'suggestCharts', [key], {});\n",
              "      } catch (error) {\n",
              "        console.error('Error during call to suggestCharts:', error);\n",
              "      }\n",
              "      quickchartButtonEl.classList.remove('colab-df-spinner');\n",
              "      quickchartButtonEl.classList.add('colab-df-quickchart-complete');\n",
              "    }\n",
              "    (() => {\n",
              "      let quickchartButtonEl =\n",
              "        document.querySelector('#df-f401acc3-0f0c-4c99-adbe-8310bafe5f89 button');\n",
              "      quickchartButtonEl.style.display =\n",
              "        google.colab.kernel.accessAllowed ? 'block' : 'none';\n",
              "    })();\n",
              "  </script>\n",
              "</div>\n",
              "\n",
              "    </div>\n",
              "  </div>\n"
            ],
            "application/vnd.google.colaboratory.intrinsic+json": {
              "type": "dataframe",
              "variable_name": "data",
              "summary": "{\n  \"name\": \"data\",\n  \"rows\": 78600,\n  \"fields\": [\n    {\n      \"column\": \"timestamp\",\n      \"properties\": {\n        \"dtype\": \"object\",\n        \"num_unique_values\": 78513,\n        \"samples\": [\n          \"2022-01-30 05:37:20\",\n          \"2022-11-15 16:12:17\",\n          \"2022-02-04 16:42:08\"\n        ],\n        \"semantic_type\": \"\",\n        \"description\": \"\"\n      }\n    },\n    {\n      \"column\": \"hour_of_day\",\n      \"properties\": {\n        \"dtype\": \"number\",\n        \"std\": 6,\n        \"min\": 0,\n        \"max\": 23,\n        \"num_unique_values\": 24,\n        \"samples\": [\n          20,\n          2,\n          12\n        ],\n        \"semantic_type\": \"\",\n        \"description\": \"\"\n      }\n    },\n    {\n      \"column\": \"sending_address\",\n      \"properties\": {\n        \"dtype\": \"category\",\n        \"num_unique_values\": 1161,\n        \"samples\": [\n          \"0x3bf693e243818239910d10ddea5d88ff88e2d5af\",\n          \"0x7830060160fc83efc46f5373627fbaba41d58b11\",\n          \"0xc6ed1f1e2a785b1991a0c2a877d19c750a7018b3\"\n        ],\n        \"semantic_type\": \"\",\n        \"description\": \"\"\n      }\n    },\n    {\n      \"column\": \"receiving_address\",\n      \"properties\": {\n        \"dtype\": \"category\",\n        \"num_unique_values\": 1166,\n        \"samples\": [\n          \"0x5228fdaad4a4db8eef769aa65059383a2d915068\",\n          \"0x691649f8bff990271b207da5b09c7e6e3c9a20b4\",\n          \"0xa182118703eca1c8a55b242298bda53985f1fb07\"\n        ],\n        \"semantic_type\": \"\",\n        \"description\": \"\"\n      }\n    },\n    {\n      \"column\": \"amount\",\n      \"properties\": {\n        \"dtype\": \"number\",\n        \"std\": 245.8981459128203,\n        \"min\": 0.01,\n        \"max\": 1557.150905156049,\n        \"num_unique_values\": 76771,\n        \"samples\": [\n          274.9589947673373,\n          180.2410484343668,\n          621.2108476394092\n        ],\n        \"semantic_type\": \"\",\n        \"description\": \"\"\n      }\n    },\n    {\n      \"column\": \"transaction_type\",\n      \"properties\": {\n        \"dtype\": \"category\",\n        \"num_unique_values\": 5,\n        \"samples\": [\n          \"purchase\",\n          \"scam\",\n          \"sale\"\n        ],\n        \"semantic_type\": \"\",\n        \"description\": \"\"\n      }\n    },\n    {\n      \"column\": \"location_region\",\n      \"properties\": {\n        \"dtype\": \"category\",\n        \"num_unique_values\": 5,\n        \"samples\": [\n          \"South America\",\n          \"North America\",\n          \"Asia\"\n        ],\n        \"semantic_type\": \"\",\n        \"description\": \"\"\n      }\n    },\n    {\n      \"column\": \"ip_prefix\",\n      \"properties\": {\n        \"dtype\": \"number\",\n        \"std\": 69.38814284990534,\n        \"min\": 10.0,\n        \"max\": 192.168,\n        \"num_unique_values\": 5,\n        \"samples\": [\n          172.0,\n          10.0,\n          192.168\n        ],\n        \"semantic_type\": \"\",\n        \"description\": \"\"\n      }\n    },\n    {\n      \"column\": \"login_frequency\",\n      \"properties\": {\n        \"dtype\": \"number\",\n        \"std\": 2,\n        \"min\": 1,\n        \"max\": 8,\n        \"num_unique_values\": 8,\n        \"samples\": [\n          5,\n          1,\n          3\n        ],\n        \"semantic_type\": \"\",\n        \"description\": \"\"\n      }\n    },\n    {\n      \"column\": \"session_duration\",\n      \"properties\": {\n        \"dtype\": \"number\",\n        \"std\": 40,\n        \"min\": 20,\n        \"max\": 159,\n        \"num_unique_values\": 140,\n        \"samples\": [\n          153,\n          124,\n          82\n        ],\n        \"semantic_type\": \"\",\n        \"description\": \"\"\n      }\n    },\n    {\n      \"column\": \"purchase_pattern\",\n      \"properties\": {\n        \"dtype\": \"category\",\n        \"num_unique_values\": 3,\n        \"samples\": [\n          \"focused\",\n          \"high_value\",\n          \"random\"\n        ],\n        \"semantic_type\": \"\",\n        \"description\": \"\"\n      }\n    },\n    {\n      \"column\": \"age_group\",\n      \"properties\": {\n        \"dtype\": \"category\",\n        \"num_unique_values\": 3,\n        \"samples\": [\n          \"established\",\n          \"veteran\",\n          \"new\"\n        ],\n        \"semantic_type\": \"\",\n        \"description\": \"\"\n      }\n    },\n    {\n      \"column\": \"risk_score\",\n      \"properties\": {\n        \"dtype\": \"number\",\n        \"std\": 21.775365232173453,\n        \"min\": 15.0,\n        \"max\": 100.0,\n        \"num_unique_values\": 31,\n        \"samples\": [\n          56.7,\n          67.5,\n          90.0\n        ],\n        \"semantic_type\": \"\",\n        \"description\": \"\"\n      }\n    },\n    {\n      \"column\": \"anomaly\",\n      \"properties\": {\n        \"dtype\": \"category\",\n        \"num_unique_values\": 3,\n        \"samples\": [\n          \"low_risk\",\n          \"moderate_risk\",\n          \"high_risk\"\n        ],\n        \"semantic_type\": \"\",\n        \"description\": \"\"\n      }\n    }\n  ]\n}"
            }
          },
          "metadata": {},
          "execution_count": 37
        }
      ]
    },
    {
      "cell_type": "markdown",
      "source": [
        "#**1. Exploratory Analysis**\n",
        "**First of all, we need to check and explore our data. It is essential to understand what are you working with, to clean the data if necessary, to change the features, to change the label column if it's imbalanced, probably to sample the data.\n",
        "Also, as a part of the preparation work should be done some visualizations, that will help to understand the relationship inside the dataset.**"
      ],
      "metadata": {
        "id": "9qMouJWFDnrT"
      }
    },
    {
      "cell_type": "code",
      "source": [
        "# Let's check the size of the data\n",
        "data.shape"
      ],
      "metadata": {
        "colab": {
          "base_uri": "https://localhost:8080/"
        },
        "id": "DnTNzIz3BGWr",
        "outputId": "d108bc1f-fab9-460d-eeea-33a6c8038161"
      },
      "execution_count": null,
      "outputs": [
        {
          "output_type": "execute_result",
          "data": {
            "text/plain": [
              "(78600, 14)"
            ]
          },
          "metadata": {},
          "execution_count": 19
        }
      ]
    },
    {
      "cell_type": "code",
      "source": [
        "# 'anomaly' seems to be the label column, it's good to check the distribution of the values\n",
        "data.anomaly.value_counts(normalize=True)"
      ],
      "metadata": {
        "colab": {
          "base_uri": "https://localhost:8080/"
        },
        "id": "I32vTIfrA-C6",
        "outputId": "bbca76f0-cf17-4274-e17b-fc4280ab3673"
      },
      "execution_count": null,
      "outputs": [
        {
          "output_type": "execute_result",
          "data": {
            "text/plain": [
              "anomaly\n",
              "low_risk         0.807812\n",
              "moderate_risk    0.109555\n",
              "high_risk        0.082634\n",
              "Name: proportion, dtype: float64"
            ]
          },
          "metadata": {},
          "execution_count": 20
        }
      ]
    },
    {
      "cell_type": "code",
      "source": [
        "# Create the columns list, then split it to numeric and non-numeric values\n",
        "columns = list(data.columns)\n",
        "numeric_columns = [column for column in columns if data[column].dtype != 'object']\n",
        "non_numeric_columns = [column for column in columns if data[column].dtype == 'object']\n",
        "print('Numeric columns are ' + str(numeric_columns))\n",
        "print('Non_numeric columns are ' + str(non_numeric_columns))"
      ],
      "metadata": {
        "colab": {
          "base_uri": "https://localhost:8080/"
        },
        "id": "gQmTXR0jBTIt",
        "outputId": "8c9c0630-34e4-4899-8f48-d68bf0778a80"
      },
      "execution_count": null,
      "outputs": [
        {
          "output_type": "stream",
          "name": "stdout",
          "text": [
            "Numeric columns are ['hour_of_day', 'amount', 'ip_prefix', 'login_frequency', 'session_duration', 'risk_score']\n",
            "Non_numeric columns are ['timestamp', 'sending_address', 'receiving_address', 'transaction_type', 'location_region', 'purchase_pattern', 'age_group', 'anomaly']\n"
          ]
        }
      ]
    },
    {
      "cell_type": "code",
      "source": [
        "# Check the dataset if there are any missing and null values.\n",
        "data.isnull().sum()"
      ],
      "metadata": {
        "colab": {
          "base_uri": "https://localhost:8080/"
        },
        "id": "6yslVGmUBgZK",
        "outputId": "31c3765e-3a6f-4265-bcd5-2b189a0d1ea2"
      },
      "execution_count": null,
      "outputs": [
        {
          "output_type": "execute_result",
          "data": {
            "text/plain": [
              "timestamp            0\n",
              "hour_of_day          0\n",
              "sending_address      0\n",
              "receiving_address    0\n",
              "amount               0\n",
              "transaction_type     0\n",
              "location_region      0\n",
              "ip_prefix            0\n",
              "login_frequency      0\n",
              "session_duration     0\n",
              "purchase_pattern     0\n",
              "age_group            0\n",
              "risk_score           0\n",
              "anomaly              0\n",
              "dtype: int64"
            ]
          },
          "metadata": {},
          "execution_count": 22
        }
      ]
    },
    {
      "cell_type": "code",
      "source": [
        "data.describe()"
      ],
      "metadata": {
        "colab": {
          "base_uri": "https://localhost:8080/",
          "height": 300
        },
        "id": "jOhhectyBn0Q",
        "outputId": "74fdff3f-f59c-414c-f822-2418d61884e6"
      },
      "execution_count": null,
      "outputs": [
        {
          "output_type": "execute_result",
          "data": {
            "text/plain": [
              "        hour_of_day        amount     ip_prefix  login_frequency  \\\n",
              "count  78600.000000  78600.000000  78600.000000     78600.000000   \n",
              "mean      11.532634    502.574903    147.644430         4.178702   \n",
              "std        6.935897    245.898146     69.388143         2.366038   \n",
              "min        0.000000      0.010000     10.000000         1.000000   \n",
              "25%        6.000000    331.319966    172.000000         2.000000   \n",
              "50%       12.000000    500.029500    172.160000         4.000000   \n",
              "75%       18.000000    669.528311    192.000000         6.000000   \n",
              "max       23.000000   1557.150905    192.168000         8.000000   \n",
              "\n",
              "       session_duration    risk_score  \n",
              "count      78600.000000  78600.000000  \n",
              "mean          69.684606     44.956722  \n",
              "std           40.524476     21.775365  \n",
              "min           20.000000     15.000000  \n",
              "25%           35.000000     26.250000  \n",
              "50%           60.000000     40.000000  \n",
              "75%          100.000000     52.500000  \n",
              "max          159.000000    100.000000  "
            ],
            "text/html": [
              "\n",
              "  <div id=\"df-04355637-4fda-494a-af63-ff43cd5c9ce1\" class=\"colab-df-container\">\n",
              "    <div>\n",
              "<style scoped>\n",
              "    .dataframe tbody tr th:only-of-type {\n",
              "        vertical-align: middle;\n",
              "    }\n",
              "\n",
              "    .dataframe tbody tr th {\n",
              "        vertical-align: top;\n",
              "    }\n",
              "\n",
              "    .dataframe thead th {\n",
              "        text-align: right;\n",
              "    }\n",
              "</style>\n",
              "<table border=\"1\" class=\"dataframe\">\n",
              "  <thead>\n",
              "    <tr style=\"text-align: right;\">\n",
              "      <th></th>\n",
              "      <th>hour_of_day</th>\n",
              "      <th>amount</th>\n",
              "      <th>ip_prefix</th>\n",
              "      <th>login_frequency</th>\n",
              "      <th>session_duration</th>\n",
              "      <th>risk_score</th>\n",
              "    </tr>\n",
              "  </thead>\n",
              "  <tbody>\n",
              "    <tr>\n",
              "      <th>count</th>\n",
              "      <td>78600.000000</td>\n",
              "      <td>78600.000000</td>\n",
              "      <td>78600.000000</td>\n",
              "      <td>78600.000000</td>\n",
              "      <td>78600.000000</td>\n",
              "      <td>78600.000000</td>\n",
              "    </tr>\n",
              "    <tr>\n",
              "      <th>mean</th>\n",
              "      <td>11.532634</td>\n",
              "      <td>502.574903</td>\n",
              "      <td>147.644430</td>\n",
              "      <td>4.178702</td>\n",
              "      <td>69.684606</td>\n",
              "      <td>44.956722</td>\n",
              "    </tr>\n",
              "    <tr>\n",
              "      <th>std</th>\n",
              "      <td>6.935897</td>\n",
              "      <td>245.898146</td>\n",
              "      <td>69.388143</td>\n",
              "      <td>2.366038</td>\n",
              "      <td>40.524476</td>\n",
              "      <td>21.775365</td>\n",
              "    </tr>\n",
              "    <tr>\n",
              "      <th>min</th>\n",
              "      <td>0.000000</td>\n",
              "      <td>0.010000</td>\n",
              "      <td>10.000000</td>\n",
              "      <td>1.000000</td>\n",
              "      <td>20.000000</td>\n",
              "      <td>15.000000</td>\n",
              "    </tr>\n",
              "    <tr>\n",
              "      <th>25%</th>\n",
              "      <td>6.000000</td>\n",
              "      <td>331.319966</td>\n",
              "      <td>172.000000</td>\n",
              "      <td>2.000000</td>\n",
              "      <td>35.000000</td>\n",
              "      <td>26.250000</td>\n",
              "    </tr>\n",
              "    <tr>\n",
              "      <th>50%</th>\n",
              "      <td>12.000000</td>\n",
              "      <td>500.029500</td>\n",
              "      <td>172.160000</td>\n",
              "      <td>4.000000</td>\n",
              "      <td>60.000000</td>\n",
              "      <td>40.000000</td>\n",
              "    </tr>\n",
              "    <tr>\n",
              "      <th>75%</th>\n",
              "      <td>18.000000</td>\n",
              "      <td>669.528311</td>\n",
              "      <td>192.000000</td>\n",
              "      <td>6.000000</td>\n",
              "      <td>100.000000</td>\n",
              "      <td>52.500000</td>\n",
              "    </tr>\n",
              "    <tr>\n",
              "      <th>max</th>\n",
              "      <td>23.000000</td>\n",
              "      <td>1557.150905</td>\n",
              "      <td>192.168000</td>\n",
              "      <td>8.000000</td>\n",
              "      <td>159.000000</td>\n",
              "      <td>100.000000</td>\n",
              "    </tr>\n",
              "  </tbody>\n",
              "</table>\n",
              "</div>\n",
              "    <div class=\"colab-df-buttons\">\n",
              "\n",
              "  <div class=\"colab-df-container\">\n",
              "    <button class=\"colab-df-convert\" onclick=\"convertToInteractive('df-04355637-4fda-494a-af63-ff43cd5c9ce1')\"\n",
              "            title=\"Convert this dataframe to an interactive table.\"\n",
              "            style=\"display:none;\">\n",
              "\n",
              "  <svg xmlns=\"http://www.w3.org/2000/svg\" height=\"24px\" viewBox=\"0 -960 960 960\">\n",
              "    <path d=\"M120-120v-720h720v720H120Zm60-500h600v-160H180v160Zm220 220h160v-160H400v160Zm0 220h160v-160H400v160ZM180-400h160v-160H180v160Zm440 0h160v-160H620v160ZM180-180h160v-160H180v160Zm440 0h160v-160H620v160Z\"/>\n",
              "  </svg>\n",
              "    </button>\n",
              "\n",
              "  <style>\n",
              "    .colab-df-container {\n",
              "      display:flex;\n",
              "      gap: 12px;\n",
              "    }\n",
              "\n",
              "    .colab-df-convert {\n",
              "      background-color: #E8F0FE;\n",
              "      border: none;\n",
              "      border-radius: 50%;\n",
              "      cursor: pointer;\n",
              "      display: none;\n",
              "      fill: #1967D2;\n",
              "      height: 32px;\n",
              "      padding: 0 0 0 0;\n",
              "      width: 32px;\n",
              "    }\n",
              "\n",
              "    .colab-df-convert:hover {\n",
              "      background-color: #E2EBFA;\n",
              "      box-shadow: 0px 1px 2px rgba(60, 64, 67, 0.3), 0px 1px 3px 1px rgba(60, 64, 67, 0.15);\n",
              "      fill: #174EA6;\n",
              "    }\n",
              "\n",
              "    .colab-df-buttons div {\n",
              "      margin-bottom: 4px;\n",
              "    }\n",
              "\n",
              "    [theme=dark] .colab-df-convert {\n",
              "      background-color: #3B4455;\n",
              "      fill: #D2E3FC;\n",
              "    }\n",
              "\n",
              "    [theme=dark] .colab-df-convert:hover {\n",
              "      background-color: #434B5C;\n",
              "      box-shadow: 0px 1px 3px 1px rgba(0, 0, 0, 0.15);\n",
              "      filter: drop-shadow(0px 1px 2px rgba(0, 0, 0, 0.3));\n",
              "      fill: #FFFFFF;\n",
              "    }\n",
              "  </style>\n",
              "\n",
              "    <script>\n",
              "      const buttonEl =\n",
              "        document.querySelector('#df-04355637-4fda-494a-af63-ff43cd5c9ce1 button.colab-df-convert');\n",
              "      buttonEl.style.display =\n",
              "        google.colab.kernel.accessAllowed ? 'block' : 'none';\n",
              "\n",
              "      async function convertToInteractive(key) {\n",
              "        const element = document.querySelector('#df-04355637-4fda-494a-af63-ff43cd5c9ce1');\n",
              "        const dataTable =\n",
              "          await google.colab.kernel.invokeFunction('convertToInteractive',\n",
              "                                                    [key], {});\n",
              "        if (!dataTable) return;\n",
              "\n",
              "        const docLinkHtml = 'Like what you see? Visit the ' +\n",
              "          '<a target=\"_blank\" href=https://colab.research.google.com/notebooks/data_table.ipynb>data table notebook</a>'\n",
              "          + ' to learn more about interactive tables.';\n",
              "        element.innerHTML = '';\n",
              "        dataTable['output_type'] = 'display_data';\n",
              "        await google.colab.output.renderOutput(dataTable, element);\n",
              "        const docLink = document.createElement('div');\n",
              "        docLink.innerHTML = docLinkHtml;\n",
              "        element.appendChild(docLink);\n",
              "      }\n",
              "    </script>\n",
              "  </div>\n",
              "\n",
              "\n",
              "<div id=\"df-ae227786-227c-4f63-9311-eae148c3e11e\">\n",
              "  <button class=\"colab-df-quickchart\" onclick=\"quickchart('df-ae227786-227c-4f63-9311-eae148c3e11e')\"\n",
              "            title=\"Suggest charts\"\n",
              "            style=\"display:none;\">\n",
              "\n",
              "<svg xmlns=\"http://www.w3.org/2000/svg\" height=\"24px\"viewBox=\"0 0 24 24\"\n",
              "     width=\"24px\">\n",
              "    <g>\n",
              "        <path d=\"M19 3H5c-1.1 0-2 .9-2 2v14c0 1.1.9 2 2 2h14c1.1 0 2-.9 2-2V5c0-1.1-.9-2-2-2zM9 17H7v-7h2v7zm4 0h-2V7h2v10zm4 0h-2v-4h2v4z\"/>\n",
              "    </g>\n",
              "</svg>\n",
              "  </button>\n",
              "\n",
              "<style>\n",
              "  .colab-df-quickchart {\n",
              "      --bg-color: #E8F0FE;\n",
              "      --fill-color: #1967D2;\n",
              "      --hover-bg-color: #E2EBFA;\n",
              "      --hover-fill-color: #174EA6;\n",
              "      --disabled-fill-color: #AAA;\n",
              "      --disabled-bg-color: #DDD;\n",
              "  }\n",
              "\n",
              "  [theme=dark] .colab-df-quickchart {\n",
              "      --bg-color: #3B4455;\n",
              "      --fill-color: #D2E3FC;\n",
              "      --hover-bg-color: #434B5C;\n",
              "      --hover-fill-color: #FFFFFF;\n",
              "      --disabled-bg-color: #3B4455;\n",
              "      --disabled-fill-color: #666;\n",
              "  }\n",
              "\n",
              "  .colab-df-quickchart {\n",
              "    background-color: var(--bg-color);\n",
              "    border: none;\n",
              "    border-radius: 50%;\n",
              "    cursor: pointer;\n",
              "    display: none;\n",
              "    fill: var(--fill-color);\n",
              "    height: 32px;\n",
              "    padding: 0;\n",
              "    width: 32px;\n",
              "  }\n",
              "\n",
              "  .colab-df-quickchart:hover {\n",
              "    background-color: var(--hover-bg-color);\n",
              "    box-shadow: 0 1px 2px rgba(60, 64, 67, 0.3), 0 1px 3px 1px rgba(60, 64, 67, 0.15);\n",
              "    fill: var(--button-hover-fill-color);\n",
              "  }\n",
              "\n",
              "  .colab-df-quickchart-complete:disabled,\n",
              "  .colab-df-quickchart-complete:disabled:hover {\n",
              "    background-color: var(--disabled-bg-color);\n",
              "    fill: var(--disabled-fill-color);\n",
              "    box-shadow: none;\n",
              "  }\n",
              "\n",
              "  .colab-df-spinner {\n",
              "    border: 2px solid var(--fill-color);\n",
              "    border-color: transparent;\n",
              "    border-bottom-color: var(--fill-color);\n",
              "    animation:\n",
              "      spin 1s steps(1) infinite;\n",
              "  }\n",
              "\n",
              "  @keyframes spin {\n",
              "    0% {\n",
              "      border-color: transparent;\n",
              "      border-bottom-color: var(--fill-color);\n",
              "      border-left-color: var(--fill-color);\n",
              "    }\n",
              "    20% {\n",
              "      border-color: transparent;\n",
              "      border-left-color: var(--fill-color);\n",
              "      border-top-color: var(--fill-color);\n",
              "    }\n",
              "    30% {\n",
              "      border-color: transparent;\n",
              "      border-left-color: var(--fill-color);\n",
              "      border-top-color: var(--fill-color);\n",
              "      border-right-color: var(--fill-color);\n",
              "    }\n",
              "    40% {\n",
              "      border-color: transparent;\n",
              "      border-right-color: var(--fill-color);\n",
              "      border-top-color: var(--fill-color);\n",
              "    }\n",
              "    60% {\n",
              "      border-color: transparent;\n",
              "      border-right-color: var(--fill-color);\n",
              "    }\n",
              "    80% {\n",
              "      border-color: transparent;\n",
              "      border-right-color: var(--fill-color);\n",
              "      border-bottom-color: var(--fill-color);\n",
              "    }\n",
              "    90% {\n",
              "      border-color: transparent;\n",
              "      border-bottom-color: var(--fill-color);\n",
              "    }\n",
              "  }\n",
              "</style>\n",
              "\n",
              "  <script>\n",
              "    async function quickchart(key) {\n",
              "      const quickchartButtonEl =\n",
              "        document.querySelector('#' + key + ' button');\n",
              "      quickchartButtonEl.disabled = true;  // To prevent multiple clicks.\n",
              "      quickchartButtonEl.classList.add('colab-df-spinner');\n",
              "      try {\n",
              "        const charts = await google.colab.kernel.invokeFunction(\n",
              "            'suggestCharts', [key], {});\n",
              "      } catch (error) {\n",
              "        console.error('Error during call to suggestCharts:', error);\n",
              "      }\n",
              "      quickchartButtonEl.classList.remove('colab-df-spinner');\n",
              "      quickchartButtonEl.classList.add('colab-df-quickchart-complete');\n",
              "    }\n",
              "    (() => {\n",
              "      let quickchartButtonEl =\n",
              "        document.querySelector('#df-ae227786-227c-4f63-9311-eae148c3e11e button');\n",
              "      quickchartButtonEl.style.display =\n",
              "        google.colab.kernel.accessAllowed ? 'block' : 'none';\n",
              "    })();\n",
              "  </script>\n",
              "</div>\n",
              "\n",
              "    </div>\n",
              "  </div>\n"
            ],
            "application/vnd.google.colaboratory.intrinsic+json": {
              "type": "dataframe",
              "summary": "{\n  \"name\": \"data\",\n  \"rows\": 8,\n  \"fields\": [\n    {\n      \"column\": \"hour_of_day\",\n      \"properties\": {\n        \"dtype\": \"number\",\n        \"std\": 27785.384666105387,\n        \"min\": 0.0,\n        \"max\": 78600.0,\n        \"num_unique_values\": 8,\n        \"samples\": [\n          11.53263358778626,\n          12.0,\n          78600.0\n        ],\n        \"semantic_type\": \"\",\n        \"description\": \"\"\n      }\n    },\n    {\n      \"column\": \"amount\",\n      \"properties\": {\n        \"dtype\": \"number\",\n        \"std\": 27600.858397578915,\n        \"min\": 0.01,\n        \"max\": 78600.0,\n        \"num_unique_values\": 8,\n        \"samples\": [\n          502.5749027097869,\n          500.0295002762907,\n          78600.0\n        ],\n        \"semantic_type\": \"\",\n        \"description\": \"\"\n      }\n    },\n    {\n      \"column\": \"ip_prefix\",\n      \"properties\": {\n        \"dtype\": \"number\",\n        \"std\": 27741.119054359086,\n        \"min\": 10.0,\n        \"max\": 78600.0,\n        \"num_unique_values\": 8,\n        \"samples\": [\n          147.64442982188297,\n          172.16,\n          78600.0\n        ],\n        \"semantic_type\": \"\",\n        \"description\": \"\"\n      }\n    },\n    {\n      \"column\": \"login_frequency\",\n      \"properties\": {\n        \"dtype\": \"number\",\n        \"std\": 27787.905372842062,\n        \"min\": 1.0,\n        \"max\": 78600.0,\n        \"num_unique_values\": 8,\n        \"samples\": [\n          4.178702290076336,\n          4.0,\n          78600.0\n        ],\n        \"semantic_type\": \"\",\n        \"description\": \"\"\n      }\n    },\n    {\n      \"column\": \"session_duration\",\n      \"properties\": {\n        \"dtype\": \"number\",\n        \"std\": 27764.87500531932,\n        \"min\": 20.0,\n        \"max\": 78600.0,\n        \"num_unique_values\": 8,\n        \"samples\": [\n          69.68460559796438,\n          60.0,\n          78600.0\n        ],\n        \"semantic_type\": \"\",\n        \"description\": \"\"\n      }\n    },\n    {\n      \"column\": \"risk_score\",\n      \"properties\": {\n        \"dtype\": \"number\",\n        \"std\": 27774.132380370997,\n        \"min\": 15.0,\n        \"max\": 78600.0,\n        \"num_unique_values\": 8,\n        \"samples\": [\n          44.956722487277354,\n          40.0,\n          78600.0\n        ],\n        \"semantic_type\": \"\",\n        \"description\": \"\"\n      }\n    }\n  ]\n}"
            }
          },
          "metadata": {},
          "execution_count": 23
        }
      ]
    },
    {
      "cell_type": "markdown",
      "source": [
        "Checked some common statistics, the amount of money transactions is quite low, with average of 500 dollars, and the max value is no more than 1500, which seems to be a nice distribution. Session duration and risk score also don't seems to be imbalanced. Will keep all of them as future features. IP prefix is more of a qualitative data rather than quantative, so it needs to be encoded."
      ],
      "metadata": {
        "id": "gJEICRTL4r-C"
      }
    },
    {
      "cell_type": "code",
      "source": [
        "data.info()"
      ],
      "metadata": {
        "id": "pFCh-BgeE5DH",
        "colab": {
          "base_uri": "https://localhost:8080/"
        },
        "outputId": "e31a18ff-08c3-452e-d731-1e20e14fd4c2"
      },
      "execution_count": null,
      "outputs": [
        {
          "output_type": "stream",
          "name": "stdout",
          "text": [
            "<class 'pandas.core.frame.DataFrame'>\n",
            "RangeIndex: 78600 entries, 0 to 78599\n",
            "Data columns (total 14 columns):\n",
            " #   Column             Non-Null Count  Dtype  \n",
            "---  ------             --------------  -----  \n",
            " 0   timestamp          78600 non-null  object \n",
            " 1   hour_of_day        78600 non-null  int64  \n",
            " 2   sending_address    78600 non-null  object \n",
            " 3   receiving_address  78600 non-null  object \n",
            " 4   amount             78600 non-null  float64\n",
            " 5   transaction_type   78600 non-null  object \n",
            " 6   location_region    78600 non-null  object \n",
            " 7   ip_prefix          78600 non-null  float64\n",
            " 8   login_frequency    78600 non-null  int64  \n",
            " 9   session_duration   78600 non-null  int64  \n",
            " 10  purchase_pattern   78600 non-null  object \n",
            " 11  age_group          78600 non-null  object \n",
            " 12  risk_score         78600 non-null  float64\n",
            " 13  anomaly            78600 non-null  object \n",
            "dtypes: float64(3), int64(3), object(8)\n",
            "memory usage: 8.4+ MB\n"
          ]
        }
      ]
    },
    {
      "cell_type": "code",
      "source": [
        "# Check the distinction of the values\n",
        "data[non_numeric_columns].nunique()"
      ],
      "metadata": {
        "id": "uks4Gzzdkqku",
        "colab": {
          "base_uri": "https://localhost:8080/"
        },
        "outputId": "8239f5fc-be4e-4b99-9b33-2eeffe173698"
      },
      "execution_count": null,
      "outputs": [
        {
          "output_type": "execute_result",
          "data": {
            "text/plain": [
              "timestamp            78513\n",
              "sending_address       1161\n",
              "receiving_address     1166\n",
              "transaction_type         5\n",
              "location_region          5\n",
              "purchase_pattern         3\n",
              "age_group                3\n",
              "anomaly                  3\n",
              "dtype: int64"
            ]
          },
          "metadata": {},
          "execution_count": 25
        }
      ]
    },
    {
      "cell_type": "markdown",
      "source": [
        "The timestamp columns is almost unique and doesn't carry a lot of meaningful information for the model. That's why it will be dropped."
      ],
      "metadata": {
        "id": "3E4rMo_G61V-"
      }
    },
    {
      "cell_type": "code",
      "source": [
        "data.drop('timestamp', axis=1,inplace=True)\n"
      ],
      "metadata": {
        "id": "zpgcTF9M5fF3"
      },
      "execution_count": null,
      "outputs": []
    },
    {
      "cell_type": "markdown",
      "source": [
        "# **2. Visualizaton Analysis**\n",
        "\n",
        "In that section would be provided some graphs to estimate the realtionship between different parameters."
      ],
      "metadata": {
        "id": "xe0y3i__8nP_"
      }
    },
    {
      "cell_type": "code",
      "source": [
        "# correlation\n",
        "correlation = data[numeric_columns].corr()\n",
        "plt.figure(figsize=(15,15))\n",
        "plt.title('Correlation Matrix')\n",
        "sns.heatmap(correlation, vmax=1, square=True,annot=True,cmap='cubehelix')"
      ],
      "metadata": {
        "colab": {
          "base_uri": "https://localhost:8080/",
          "height": 1000
        },
        "id": "bo0jZNBi7jzv",
        "outputId": "e883308a-4357-4b92-9f80-1381fb3005b0"
      },
      "execution_count": null,
      "outputs": [
        {
          "output_type": "execute_result",
          "data": {
            "text/plain": [
              "<Axes: title={'center': 'Correlation Matrix'}>"
            ]
          },
          "metadata": {},
          "execution_count": 34
        },
        {
          "output_type": "display_data",
          "data": {
            "text/plain": [
              "<Figure size 1500x1500 with 2 Axes>"
            ],
            "image/png": "[encoded data removed]"
          },
          "metadata": {}
        }
      ]
    },
    {
      "cell_type": "markdown",
      "source": [
        "As we can from the correlation matrix, the session duration and login frequency has a strong positive correlation and as a result one of this parameters should be dropped. Let it be session duration."
      ],
      "metadata": {
        "id": "Kvvatp2E9Lp9"
      }
    },
    {
      "cell_type": "code",
      "source": [
        "data.drop('session_duration', axis=1, inplace=True)"
      ],
      "metadata": {
        "id": "nHDS9FTP9BuL"
      },
      "execution_count": null,
      "outputs": []
    },
    {
      "cell_type": "code",
      "source": [
        "# Make a copy of the dataset to make a check-point in order of making a mistake\n",
        "dataset = data.copy()"
      ],
      "metadata": {
        "id": "qiAHgi7E9qa0"
      },
      "execution_count": null,
      "outputs": []
    },
    {
      "cell_type": "code",
      "source": [
        "sns.countplot(x=dataset['age_group'], hue=dataset['anomaly'])"
      ],
      "metadata": {
        "colab": {
          "base_uri": "https://localhost:8080/",
          "height": 466
        },
        "id": "zl3PV-5e97Q-",
        "outputId": "97a33f9e-32ac-484b-d1a0-025aa2531af4"
      },
      "execution_count": null,
      "outputs": [
        {
          "output_type": "execute_result",
          "data": {
            "text/plain": [
              "<Axes: xlabel='age_group', ylabel='count'>"
            ]
          },
          "metadata": {},
          "execution_count": 44
        },
        {
          "output_type": "display_data",
          "data": {
            "text/plain": [
              "<Figure size 640x480 with 1 Axes>"
            ],
            "image/png": "[encoded data removed]"
          },
          "metadata": {}
        }
      ]
    },
    {
      "cell_type": "code",
      "source": [
        "dataset.columns"
      ],
      "metadata": {
        "colab": {
          "base_uri": "https://localhost:8080/"
        },
        "id": "AHfJTsQL_r_J",
        "outputId": "f183d1a4-0bcf-4f28-cf67-fe576fd4b54f"
      },
      "execution_count": null,
      "outputs": [
        {
          "output_type": "execute_result",
          "data": {
            "text/plain": [
              "Index(['hour_of_day', 'sending_address', 'receiving_address', 'amount',\n",
              "       'transaction_type', 'location_region', 'ip_prefix', 'login_frequency',\n",
              "       'purchase_pattern', 'age_group', 'risk_score', 'anomaly'],\n",
              "      dtype='object')"
            ]
          },
          "metadata": {},
          "execution_count": 45
        }
      ]
    },
    {
      "cell_type": "code",
      "source": [
        "sns.countplot(x=dataset['transaction_type'], hue=dataset['anomaly'])"
      ],
      "metadata": {
        "colab": {
          "base_uri": "https://localhost:8080/",
          "height": 467
        },
        "id": "lS7m8zZ4_cf2",
        "outputId": "e97fbae7-22a9-4ba2-f708-07775b7b1290"
      },
      "execution_count": null,
      "outputs": [
        {
          "output_type": "execute_result",
          "data": {
            "text/plain": [
              "<Axes: xlabel='transaction_type', ylabel='count'>"
            ]
          },
          "metadata": {},
          "execution_count": 46
        },
        {
          "output_type": "display_data",
          "data": {
            "text/plain": [
              "<Figure size 640x480 with 1 Axes>"
            ],
            "image/png": "[encoded data removed]"
          },
          "metadata": {}
        }
      ]
    },
    {
      "cell_type": "code",
      "source": [
        "sns.countplot(x=dataset['location_region'], hue=dataset['anomaly'])"
      ],
      "metadata": {
        "colab": {
          "base_uri": "https://localhost:8080/",
          "height": 467
        },
        "id": "6KNVgNny_wpq",
        "outputId": "80217a03-2a64-49eb-e4b9-61f18b7e46b0"
      },
      "execution_count": null,
      "outputs": [
        {
          "output_type": "execute_result",
          "data": {
            "text/plain": [
              "<Axes: xlabel='location_region', ylabel='count'>"
            ]
          },
          "metadata": {},
          "execution_count": 47
        },
        {
          "output_type": "display_data",
          "data": {
            "text/plain": [
              "<Figure size 640x480 with 1 Axes>"
            ],
            "image/png": "[encoded data removed]"
          },
          "metadata": {}
        }
      ]
    },
    {
      "cell_type": "code",
      "source": [
        "sns.countplot(x=dataset['purchase_pattern'], hue=dataset['anomaly'])"
      ],
      "metadata": {
        "colab": {
          "base_uri": "https://localhost:8080/",
          "height": 467
        },
        "id": "FpIj8F_3_4sG",
        "outputId": "7c24e2ab-3b0a-43a7-b2de-8e54d3587985"
      },
      "execution_count": null,
      "outputs": [
        {
          "output_type": "execute_result",
          "data": {
            "text/plain": [
              "<Axes: xlabel='purchase_pattern', ylabel='count'>"
            ]
          },
          "metadata": {},
          "execution_count": 48
        },
        {
          "output_type": "display_data",
          "data": {
            "text/plain": [
              "<Figure size 640x480 with 1 Axes>"
            ],
            "image/png": "[encoded data removed]"
          },
          "metadata": {}
        }
      ]
    },
    {
      "cell_type": "code",
      "source": [
        "sns.countplot(x=dataset['login_frequency'], hue=dataset['anomaly'])"
      ],
      "metadata": {
        "colab": {
          "base_uri": "https://localhost:8080/",
          "height": 467
        },
        "id": "FwmWdnI9AJ1O",
        "outputId": "fe291136-93cb-4c55-cd26-d178a770c358"
      },
      "execution_count": null,
      "outputs": [
        {
          "output_type": "execute_result",
          "data": {
            "text/plain": [
              "<Axes: xlabel='login_frequency', ylabel='count'>"
            ]
          },
          "metadata": {},
          "execution_count": 49
        },
        {
          "output_type": "display_data",
          "data": {
            "text/plain": [
              "<Figure size 640x480 with 1 Axes>"
            ],
            "image/png": "[encoded data removed]"
          },
          "metadata": {}
        }
      ]
    },
    {
      "cell_type": "markdown",
      "source": [
        "As we can see from those graphs, the column location doesn't mean a lot of sense in order to predict the value of the risk. As a result, it would be dropped."
      ],
      "metadata": {
        "id": "QUNp8VE2AjY7"
      }
    },
    {
      "cell_type": "code",
      "source": [
        "dataset.drop('location_region', axis=1, inplace=True)"
      ],
      "metadata": {
        "id": "wOiaqpFbAb6q"
      },
      "execution_count": null,
      "outputs": []
    },
    {
      "cell_type": "markdown",
      "source": [
        "Risk, obviously, is a highly corrlated feature with the anomaly, that's why it is unnecassary as well."
      ],
      "metadata": {
        "id": "P-j01FA2BDhA"
      }
    },
    {
      "cell_type": "code",
      "source": [
        "dataset.drop('risk_score', axis=1, inplace=True)"
      ],
      "metadata": {
        "id": "k2fhya60BRxe"
      },
      "execution_count": null,
      "outputs": []
    },
    {
      "cell_type": "code",
      "source": [
        "dataset.head()"
      ],
      "metadata": {
        "colab": {
          "base_uri": "https://localhost:8080/",
          "height": 226
        },
        "id": "FSMJJYK6A8Fj",
        "outputId": "96ec282a-d1da-4679-dd28-a411bd1c4eff"
      },
      "execution_count": null,
      "outputs": [
        {
          "output_type": "execute_result",
          "data": {
            "text/plain": [
              "   hour_of_day                             sending_address  \\\n",
              "0           12  0x9d32d0bf2c00f41ce7ca01b66e174cc4dcb0c1da   \n",
              "1           19  0xd6e251c23cbf52dbd472f079147873e655d8096f   \n",
              "2           16  0x2e0925b922fed01f6a85d213ae2718f54b8ca305   \n",
              "3            9  0x93efefc25fcaf31d7695f28018d7a11ece55457f   \n",
              "4           14  0xad3b8de45d63f5cce28aef9a82cf30c397c6ceb9   \n",
              "\n",
              "                            receiving_address      amount transaction_type  \\\n",
              "0  0x39f82e1c09bc6d7baccc1e79e5621ff812f50572  796.949206         transfer   \n",
              "1  0x51e8fbe24f124e0e30a614e14401b9bbfed5384c    0.010000         purchase   \n",
              "2  0x52c7911879f783d590af45bda0c0ef2b8536706f  778.197390         purchase   \n",
              "3  0x8ac3b7bd531b3a833032f07d4e47c7af6ea7bace  300.838358         transfer   \n",
              "4  0x6fdc047c2391615b3facd79b4588c7e9106e49f2  775.569344             sale   \n",
              "\n",
              "   ip_prefix  login_frequency purchase_pattern    age_group        anomaly  \n",
              "0    192.000                3          focused  established       low_risk  \n",
              "1    172.000                5          focused  established       low_risk  \n",
              "2    192.168                3          focused  established       low_risk  \n",
              "3    172.000                8       high_value      veteran       low_risk  \n",
              "4    172.160                6       high_value      veteran  moderate_risk  "
            ],
            "text/html": [
              "\n",
              "  <div id=\"df-9aea4d51-af1c-470c-aec9-edfcd59b8a25\" class=\"colab-df-container\">\n",
              "    <div>\n",
              "<style scoped>\n",
              "    .dataframe tbody tr th:only-of-type {\n",
              "        vertical-align: middle;\n",
              "    }\n",
              "\n",
              "    .dataframe tbody tr th {\n",
              "        vertical-align: top;\n",
              "    }\n",
              "\n",
              "    .dataframe thead th {\n",
              "        text-align: right;\n",
              "    }\n",
              "</style>\n",
              "<table border=\"1\" class=\"dataframe\">\n",
              "  <thead>\n",
              "    <tr style=\"text-align: right;\">\n",
              "      <th></th>\n",
              "      <th>hour_of_day</th>\n",
              "      <th>sending_address</th>\n",
              "      <th>receiving_address</th>\n",
              "      <th>amount</th>\n",
              "      <th>transaction_type</th>\n",
              "      <th>ip_prefix</th>\n",
              "      <th>login_frequency</th>\n",
              "      <th>purchase_pattern</th>\n",
              "      <th>age_group</th>\n",
              "      <th>anomaly</th>\n",
              "    </tr>\n",
              "  </thead>\n",
              "  <tbody>\n",
              "    <tr>\n",
              "      <th>0</th>\n",
              "      <td>12</td>\n",
              "      <td>0x9d32d0bf2c00f41ce7ca01b66e174cc4dcb0c1da</td>\n",
              "      <td>0x39f82e1c09bc6d7baccc1e79e5621ff812f50572</td>\n",
              "      <td>796.949206</td>\n",
              "      <td>transfer</td>\n",
              "      <td>192.000</td>\n",
              "      <td>3</td>\n",
              "      <td>focused</td>\n",
              "      <td>established</td>\n",
              "      <td>low_risk</td>\n",
              "    </tr>\n",
              "    <tr>\n",
              "      <th>1</th>\n",
              "      <td>19</td>\n",
              "      <td>0xd6e251c23cbf52dbd472f079147873e655d8096f</td>\n",
              "      <td>0x51e8fbe24f124e0e30a614e14401b9bbfed5384c</td>\n",
              "      <td>0.010000</td>\n",
              "      <td>purchase</td>\n",
              "      <td>172.000</td>\n",
              "      <td>5</td>\n",
              "      <td>focused</td>\n",
              "      <td>established</td>\n",
              "      <td>low_risk</td>\n",
              "    </tr>\n",
              "    <tr>\n",
              "      <th>2</th>\n",
              "      <td>16</td>\n",
              "      <td>0x2e0925b922fed01f6a85d213ae2718f54b8ca305</td>\n",
              "      <td>0x52c7911879f783d590af45bda0c0ef2b8536706f</td>\n",
              "      <td>778.197390</td>\n",
              "      <td>purchase</td>\n",
              "      <td>192.168</td>\n",
              "      <td>3</td>\n",
              "      <td>focused</td>\n",
              "      <td>established</td>\n",
              "      <td>low_risk</td>\n",
              "    </tr>\n",
              "    <tr>\n",
              "      <th>3</th>\n",
              "      <td>9</td>\n",
              "      <td>0x93efefc25fcaf31d7695f28018d7a11ece55457f</td>\n",
              "      <td>0x8ac3b7bd531b3a833032f07d4e47c7af6ea7bace</td>\n",
              "      <td>300.838358</td>\n",
              "      <td>transfer</td>\n",
              "      <td>172.000</td>\n",
              "      <td>8</td>\n",
              "      <td>high_value</td>\n",
              "      <td>veteran</td>\n",
              "      <td>low_risk</td>\n",
              "    </tr>\n",
              "    <tr>\n",
              "      <th>4</th>\n",
              "      <td>14</td>\n",
              "      <td>0xad3b8de45d63f5cce28aef9a82cf30c397c6ceb9</td>\n",
              "      <td>0x6fdc047c2391615b3facd79b4588c7e9106e49f2</td>\n",
              "      <td>775.569344</td>\n",
              "      <td>sale</td>\n",
              "      <td>172.160</td>\n",
              "      <td>6</td>\n",
              "      <td>high_value</td>\n",
              "      <td>veteran</td>\n",
              "      <td>moderate_risk</td>\n",
              "    </tr>\n",
              "  </tbody>\n",
              "</table>\n",
              "</div>\n",
              "    <div class=\"colab-df-buttons\">\n",
              "\n",
              "  <div class=\"colab-df-container\">\n",
              "    <button class=\"colab-df-convert\" onclick=\"convertToInteractive('df-9aea4d51-af1c-470c-aec9-edfcd59b8a25')\"\n",
              "            title=\"Convert this dataframe to an interactive table.\"\n",
              "            style=\"display:none;\">\n",
              "\n",
              "  <svg xmlns=\"http://www.w3.org/2000/svg\" height=\"24px\" viewBox=\"0 -960 960 960\">\n",
              "    <path d=\"M120-120v-720h720v720H120Zm60-500h600v-160H180v160Zm220 220h160v-160H400v160Zm0 220h160v-160H400v160ZM180-400h160v-160H180v160Zm440 0h160v-160H620v160ZM180-180h160v-160H180v160Zm440 0h160v-160H620v160Z\"/>\n",
              "  </svg>\n",
              "    </button>\n",
              "\n",
              "  <style>\n",
              "    .colab-df-container {\n",
              "      display:flex;\n",
              "      gap: 12px;\n",
              "    }\n",
              "\n",
              "    .colab-df-convert {\n",
              "      background-color: #E8F0FE;\n",
              "      border: none;\n",
              "      border-radius: 50%;\n",
              "      cursor: pointer;\n",
              "      display: none;\n",
              "      fill: #1967D2;\n",
              "      height: 32px;\n",
              "      padding: 0 0 0 0;\n",
              "      width: 32px;\n",
              "    }\n",
              "\n",
              "    .colab-df-convert:hover {\n",
              "      background-color: #E2EBFA;\n",
              "      box-shadow: 0px 1px 2px rgba(60, 64, 67, 0.3), 0px 1px 3px 1px rgba(60, 64, 67, 0.15);\n",
              "      fill: #174EA6;\n",
              "    }\n",
              "\n",
              "    .colab-df-buttons div {\n",
              "      margin-bottom: 4px;\n",
              "    }\n",
              "\n",
              "    [theme=dark] .colab-df-convert {\n",
              "      background-color: #3B4455;\n",
              "      fill: #D2E3FC;\n",
              "    }\n",
              "\n",
              "    [theme=dark] .colab-df-convert:hover {\n",
              "      background-color: #434B5C;\n",
              "      box-shadow: 0px 1px 3px 1px rgba(0, 0, 0, 0.15);\n",
              "      filter: drop-shadow(0px 1px 2px rgba(0, 0, 0, 0.3));\n",
              "      fill: #FFFFFF;\n",
              "    }\n",
              "  </style>\n",
              "\n",
              "    <script>\n",
              "      const buttonEl =\n",
              "        document.querySelector('#df-9aea4d51-af1c-470c-aec9-edfcd59b8a25 button.colab-df-convert');\n",
              "      buttonEl.style.display =\n",
              "        google.colab.kernel.accessAllowed ? 'block' : 'none';\n",
              "\n",
              "      async function convertToInteractive(key) {\n",
              "        const element = document.querySelector('#df-9aea4d51-af1c-470c-aec9-edfcd59b8a25');\n",
              "        const dataTable =\n",
              "          await google.colab.kernel.invokeFunction('convertToInteractive',\n",
              "                                                    [key], {});\n",
              "        if (!dataTable) return;\n",
              "\n",
              "        const docLinkHtml = 'Like what you see? Visit the ' +\n",
              "          '<a target=\"_blank\" href=https://colab.research.google.com/notebooks/data_table.ipynb>data table notebook</a>'\n",
              "          + ' to learn more about interactive tables.';\n",
              "        element.innerHTML = '';\n",
              "        dataTable['output_type'] = 'display_data';\n",
              "        await google.colab.output.renderOutput(dataTable, element);\n",
              "        const docLink = document.createElement('div');\n",
              "        docLink.innerHTML = docLinkHtml;\n",
              "        element.appendChild(docLink);\n",
              "      }\n",
              "    </script>\n",
              "  </div>\n",
              "\n",
              "\n",
              "<div id=\"df-520b4bbb-8e13-48aa-9fa8-33a216a1366d\">\n",
              "  <button class=\"colab-df-quickchart\" onclick=\"quickchart('df-520b4bbb-8e13-48aa-9fa8-33a216a1366d')\"\n",
              "            title=\"Suggest charts\"\n",
              "            style=\"display:none;\">\n",
              "\n",
              "<svg xmlns=\"http://www.w3.org/2000/svg\" height=\"24px\"viewBox=\"0 0 24 24\"\n",
              "     width=\"24px\">\n",
              "    <g>\n",
              "        <path d=\"M19 3H5c-1.1 0-2 .9-2 2v14c0 1.1.9 2 2 2h14c1.1 0 2-.9 2-2V5c0-1.1-.9-2-2-2zM9 17H7v-7h2v7zm4 0h-2V7h2v10zm4 0h-2v-4h2v4z\"/>\n",
              "    </g>\n",
              "</svg>\n",
              "  </button>\n",
              "\n",
              "<style>\n",
              "  .colab-df-quickchart {\n",
              "      --bg-color: #E8F0FE;\n",
              "      --fill-color: #1967D2;\n",
              "      --hover-bg-color: #E2EBFA;\n",
              "      --hover-fill-color: #174EA6;\n",
              "      --disabled-fill-color: #AAA;\n",
              "      --disabled-bg-color: #DDD;\n",
              "  }\n",
              "\n",
              "  [theme=dark] .colab-df-quickchart {\n",
              "      --bg-color: #3B4455;\n",
              "      --fill-color: #D2E3FC;\n",
              "      --hover-bg-color: #434B5C;\n",
              "      --hover-fill-color: #FFFFFF;\n",
              "      --disabled-bg-color: #3B4455;\n",
              "      --disabled-fill-color: #666;\n",
              "  }\n",
              "\n",
              "  .colab-df-quickchart {\n",
              "    background-color: var(--bg-color);\n",
              "    border: none;\n",
              "    border-radius: 50%;\n",
              "    cursor: pointer;\n",
              "    display: none;\n",
              "    fill: var(--fill-color);\n",
              "    height: 32px;\n",
              "    padding: 0;\n",
              "    width: 32px;\n",
              "  }\n",
              "\n",
              "  .colab-df-quickchart:hover {\n",
              "    background-color: var(--hover-bg-color);\n",
              "    box-shadow: 0 1px 2px rgba(60, 64, 67, 0.3), 0 1px 3px 1px rgba(60, 64, 67, 0.15);\n",
              "    fill: var(--button-hover-fill-color);\n",
              "  }\n",
              "\n",
              "  .colab-df-quickchart-complete:disabled,\n",
              "  .colab-df-quickchart-complete:disabled:hover {\n",
              "    background-color: var(--disabled-bg-color);\n",
              "    fill: var(--disabled-fill-color);\n",
              "    box-shadow: none;\n",
              "  }\n",
              "\n",
              "  .colab-df-spinner {\n",
              "    border: 2px solid var(--fill-color);\n",
              "    border-color: transparent;\n",
              "    border-bottom-color: var(--fill-color);\n",
              "    animation:\n",
              "      spin 1s steps(1) infinite;\n",
              "  }\n",
              "\n",
              "  @keyframes spin {\n",
              "    0% {\n",
              "      border-color: transparent;\n",
              "      border-bottom-color: var(--fill-color);\n",
              "      border-left-color: var(--fill-color);\n",
              "    }\n",
              "    20% {\n",
              "      border-color: transparent;\n",
              "      border-left-color: var(--fill-color);\n",
              "      border-top-color: var(--fill-color);\n",
              "    }\n",
              "    30% {\n",
              "      border-color: transparent;\n",
              "      border-left-color: var(--fill-color);\n",
              "      border-top-color: var(--fill-color);\n",
              "      border-right-color: var(--fill-color);\n",
              "    }\n",
              "    40% {\n",
              "      border-color: transparent;\n",
              "      border-right-color: var(--fill-color);\n",
              "      border-top-color: var(--fill-color);\n",
              "    }\n",
              "    60% {\n",
              "      border-color: transparent;\n",
              "      border-right-color: var(--fill-color);\n",
              "    }\n",
              "    80% {\n",
              "      border-color: transparent;\n",
              "      border-right-color: var(--fill-color);\n",
              "      border-bottom-color: var(--fill-color);\n",
              "    }\n",
              "    90% {\n",
              "      border-color: transparent;\n",
              "      border-bottom-color: var(--fill-color);\n",
              "    }\n",
              "  }\n",
              "</style>\n",
              "\n",
              "  <script>\n",
              "    async function quickchart(key) {\n",
              "      const quickchartButtonEl =\n",
              "        document.querySelector('#' + key + ' button');\n",
              "      quickchartButtonEl.disabled = true;  // To prevent multiple clicks.\n",
              "      quickchartButtonEl.classList.add('colab-df-spinner');\n",
              "      try {\n",
              "        const charts = await google.colab.kernel.invokeFunction(\n",
              "            'suggestCharts', [key], {});\n",
              "      } catch (error) {\n",
              "        console.error('Error during call to suggestCharts:', error);\n",
              "      }\n",
              "      quickchartButtonEl.classList.remove('colab-df-spinner');\n",
              "      quickchartButtonEl.classList.add('colab-df-quickchart-complete');\n",
              "    }\n",
              "    (() => {\n",
              "      let quickchartButtonEl =\n",
              "        document.querySelector('#df-520b4bbb-8e13-48aa-9fa8-33a216a1366d button');\n",
              "      quickchartButtonEl.style.display =\n",
              "        google.colab.kernel.accessAllowed ? 'block' : 'none';\n",
              "    })();\n",
              "  </script>\n",
              "</div>\n",
              "\n",
              "    </div>\n",
              "  </div>\n"
            ],
            "application/vnd.google.colaboratory.intrinsic+json": {
              "type": "dataframe",
              "variable_name": "dataset",
              "summary": "{\n  \"name\": \"dataset\",\n  \"rows\": 78600,\n  \"fields\": [\n    {\n      \"column\": \"hour_of_day\",\n      \"properties\": {\n        \"dtype\": \"number\",\n        \"std\": 6,\n        \"min\": 0,\n        \"max\": 23,\n        \"num_unique_values\": 24,\n        \"samples\": [\n          20,\n          2,\n          12\n        ],\n        \"semantic_type\": \"\",\n        \"description\": \"\"\n      }\n    },\n    {\n      \"column\": \"sending_address\",\n      \"properties\": {\n        \"dtype\": \"category\",\n        \"num_unique_values\": 1161,\n        \"samples\": [\n          \"0x3bf693e243818239910d10ddea5d88ff88e2d5af\",\n          \"0x7830060160fc83efc46f5373627fbaba41d58b11\",\n          \"0xc6ed1f1e2a785b1991a0c2a877d19c750a7018b3\"\n        ],\n        \"semantic_type\": \"\",\n        \"description\": \"\"\n      }\n    },\n    {\n      \"column\": \"receiving_address\",\n      \"properties\": {\n        \"dtype\": \"category\",\n        \"num_unique_values\": 1166,\n        \"samples\": [\n          \"0x5228fdaad4a4db8eef769aa65059383a2d915068\",\n          \"0x691649f8bff990271b207da5b09c7e6e3c9a20b4\",\n          \"0xa182118703eca1c8a55b242298bda53985f1fb07\"\n        ],\n        \"semantic_type\": \"\",\n        \"description\": \"\"\n      }\n    },\n    {\n      \"column\": \"amount\",\n      \"properties\": {\n        \"dtype\": \"number\",\n        \"std\": 245.8981459128203,\n        \"min\": 0.01,\n        \"max\": 1557.150905156049,\n        \"num_unique_values\": 76771,\n        \"samples\": [\n          274.9589947673373,\n          180.2410484343668,\n          621.2108476394092\n        ],\n        \"semantic_type\": \"\",\n        \"description\": \"\"\n      }\n    },\n    {\n      \"column\": \"transaction_type\",\n      \"properties\": {\n        \"dtype\": \"category\",\n        \"num_unique_values\": 5,\n        \"samples\": [\n          \"purchase\",\n          \"scam\",\n          \"sale\"\n        ],\n        \"semantic_type\": \"\",\n        \"description\": \"\"\n      }\n    },\n    {\n      \"column\": \"ip_prefix\",\n      \"properties\": {\n        \"dtype\": \"number\",\n        \"std\": 69.38814284990534,\n        \"min\": 10.0,\n        \"max\": 192.168,\n        \"num_unique_values\": 5,\n        \"samples\": [\n          172.0,\n          10.0,\n          192.168\n        ],\n        \"semantic_type\": \"\",\n        \"description\": \"\"\n      }\n    },\n    {\n      \"column\": \"login_frequency\",\n      \"properties\": {\n        \"dtype\": \"number\",\n        \"std\": 2,\n        \"min\": 1,\n        \"max\": 8,\n        \"num_unique_values\": 8,\n        \"samples\": [\n          5,\n          1,\n          3\n        ],\n        \"semantic_type\": \"\",\n        \"description\": \"\"\n      }\n    },\n    {\n      \"column\": \"purchase_pattern\",\n      \"properties\": {\n        \"dtype\": \"category\",\n        \"num_unique_values\": 3,\n        \"samples\": [\n          \"focused\",\n          \"high_value\",\n          \"random\"\n        ],\n        \"semantic_type\": \"\",\n        \"description\": \"\"\n      }\n    },\n    {\n      \"column\": \"age_group\",\n      \"properties\": {\n        \"dtype\": \"category\",\n        \"num_unique_values\": 3,\n        \"samples\": [\n          \"established\",\n          \"veteran\",\n          \"new\"\n        ],\n        \"semantic_type\": \"\",\n        \"description\": \"\"\n      }\n    },\n    {\n      \"column\": \"anomaly\",\n      \"properties\": {\n        \"dtype\": \"category\",\n        \"num_unique_values\": 3,\n        \"samples\": [\n          \"low_risk\",\n          \"moderate_risk\",\n          \"high_risk\"\n        ],\n        \"semantic_type\": \"\",\n        \"description\": \"\"\n      }\n    }\n  ]\n}"
            }
          },
          "metadata": {},
          "execution_count": 53
        }
      ]
    },
    {
      "source": [
        "# The amount distribution\n",
        "dataset['amount'].plot(kind='hist', bins=20, title='amount')\n",
        "plt.gca().spines[['top', 'right',]].set_visible(False)"
      ],
      "cell_type": "code",
      "execution_count": null,
      "outputs": [
        {
          "output_type": "display_data",
          "data": {
            "text/plain": [
              "<Figure size 640x480 with 1 Axes>"
            ],
            "image/png": "[encoded data removed]"
          },
          "metadata": {}
        }
      ],
      "metadata": {
        "colab": {
          "base_uri": "https://localhost:8080/",
          "height": 452
        },
        "id": "wwktolXFBacX",
        "outputId": "e8eca653-3e42-4406-c5f7-8953ffd0e0f1"
      }
    },
    {
      "cell_type": "code",
      "source": [
        "fig = plt.figure()\n",
        "plot = dataset.groupby(['anomaly']).size().plot(kind='barh', color='blue')\n",
        "plt.show()"
      ],
      "metadata": {
        "colab": {
          "base_uri": "https://localhost:8080/",
          "height": 430
        },
        "id": "quPFhQJcA9XN",
        "outputId": "465954df-83a8-4d53-db2a-94c697821fc5"
      },
      "execution_count": null,
      "outputs": [
        {
          "output_type": "display_data",
          "data": {
            "text/plain": [
              "<Figure size 640x480 with 1 Axes>"
            ],
            "image/png": "[encoded data removed]"
          },
          "metadata": {}
        }
      ]
    },
    {
      "cell_type": "markdown",
      "source": [
        "We need to sample our dataset because the use of the imbalanced data would let to grade the accuracy of the models correctly."
      ],
      "metadata": {
        "id": "h1CMaTJlCFyj"
      }
    },
    {
      "cell_type": "markdown",
      "source": [
        "#**3. Data Preprocessing**"
      ],
      "metadata": {
        "id": "rmeKj2GFIF6V"
      }
    },
    {
      "cell_type": "code",
      "source": [
        "dataset['anomaly'].value_counts()"
      ],
      "metadata": {
        "colab": {
          "base_uri": "https://localhost:8080/"
        },
        "id": "JXh5_Uw1DMYA",
        "outputId": "622f490e-46a8-44f1-87c5-9332390f002c"
      },
      "execution_count": null,
      "outputs": [
        {
          "output_type": "execute_result",
          "data": {
            "text/plain": [
              "anomaly\n",
              "low_risk         63494\n",
              "moderate_risk     8611\n",
              "high_risk         6495\n",
              "Name: count, dtype: int64"
            ]
          },
          "metadata": {},
          "execution_count": 58
        }
      ]
    },
    {
      "cell_type": "code",
      "source": [
        "data_0 = dataset.loc[dataset['anomaly'] == 'high_risk']\n",
        "data_1 = dataset.loc[dataset['anomaly'] == 'moderate_risk']\n",
        "data_2 = dataset.loc[dataset['anomaly'] == 'low_risk'][:15100]\n",
        "\n",
        "sampled_data = pd.concat([data_0, data_1, data_2])"
      ],
      "metadata": {
        "id": "q1k9JH4mB9wb"
      },
      "execution_count": null,
      "outputs": []
    },
    {
      "cell_type": "code",
      "source": [
        "sampled_data.columns"
      ],
      "metadata": {
        "colab": {
          "base_uri": "https://localhost:8080/"
        },
        "id": "5PPe7B4ODhpk",
        "outputId": "4a860e52-b41e-496e-b76d-d98229eb71b9"
      },
      "execution_count": null,
      "outputs": [
        {
          "output_type": "execute_result",
          "data": {
            "text/plain": [
              "Index(['hour_of_day', 'sending_address', 'receiving_address', 'amount',\n",
              "       'transaction_type', 'ip_prefix', 'login_frequency', 'purchase_pattern',\n",
              "       'age_group', 'anomaly'],\n",
              "      dtype='object')"
            ]
          },
          "metadata": {},
          "execution_count": 61
        }
      ]
    },
    {
      "cell_type": "code",
      "source": [
        "le = LabelEncoder()\n",
        "y = le.fit_transform(sampled_data['anomaly'])"
      ],
      "metadata": {
        "id": "-RXrWVCfDrPx"
      },
      "execution_count": null,
      "outputs": []
    },
    {
      "cell_type": "code",
      "source": [
        "sampled_data.drop('anomaly', axis=1, inplace=True)"
      ],
      "metadata": {
        "id": "17CU-PWGGUxO"
      },
      "execution_count": null,
      "outputs": []
    },
    {
      "cell_type": "code",
      "source": [
        "columns =  list(sampled_data.columns)\n",
        "non_numeric_columns = [column for column in columns if sampled_data[column].dtype == 'object']\n",
        "sampled_data[non_numeric_columns] = sampled_data[non_numeric_columns].apply(le.fit_transform)"
      ],
      "metadata": {
        "id": "VUs32-xDGW4I"
      },
      "execution_count": null,
      "outputs": []
    },
    {
      "cell_type": "code",
      "source": [
        "X = sampled_data"
      ],
      "metadata": {
        "id": "KmMYIARHHmqh"
      },
      "execution_count": null,
      "outputs": []
    },
    {
      "cell_type": "code",
      "source": [
        "scaler = StandardScaler().fit(X)\n",
        "rescaledX = scaler.transform(X)\n",
        "validation_size = 0.2\n",
        "seed = 3\n",
        "X_train, X_validation, Y_train, Y_validation = train_test_split(rescaledX, y, test_size=validation_size, random_state=seed)"
      ],
      "metadata": {
        "id": "kair7IbbG1dO"
      },
      "execution_count": null,
      "outputs": []
    },
    {
      "cell_type": "markdown",
      "source": [
        "#**4. Machine Learning**"
      ],
      "metadata": {
        "id": "4GMkWWLOIMWI"
      }
    },
    {
      "cell_type": "code",
      "source": [
        "num_folds = 10\n",
        "scoring = 'accuracy'\n"
      ],
      "metadata": {
        "id": "z23fterYIQCc"
      },
      "execution_count": null,
      "outputs": []
    },
    {
      "cell_type": "code",
      "source": [
        "models = []\n",
        "models.append(('KNN', KNeighborsClassifier()))\n",
        "models.append(('CART', DecisionTreeClassifier()))\n",
        "# #Ensable Models\n",
        "# Boosting methods\n",
        "models.append(('AB', AdaBoostClassifier()))\n",
        "models.append(('GBM', GradientBoostingClassifier()))\n",
        "# Bagging methods\n",
        "models.append(('RF', RandomForestClassifier()))\n",
        "models.append(('ET', ExtraTreesClassifier()))"
      ],
      "metadata": {
        "id": "NIao3TKlIrxc"
      },
      "execution_count": null,
      "outputs": []
    },
    {
      "cell_type": "code",
      "source": [
        "results = []\n",
        "names = []\n",
        "for name, model in models:\n",
        "    kfold = KFold(n_splits=num_folds, random_state=seed, shuffle=True)\n",
        "    cv_results = cross_val_score(model, X_train, Y_train, cv=kfold, scoring=scoring)\n",
        "    results.append(cv_results)\n",
        "    names.append(name)\n",
        "    msg = \"%s: %f (%f)\" % (name, cv_results.mean(), cv_results.std())\n",
        "    print(msg)"
      ],
      "metadata": {
        "colab": {
          "base_uri": "https://localhost:8080/"
        },
        "id": "wQhIv31zJKea",
        "outputId": "6f0e6bf1-55b8-4686-f04d-2000f3244329"
      },
      "execution_count": null,
      "outputs": [
        {
          "output_type": "stream",
          "name": "stdout",
          "text": [
            "KNN: 0.981584 (0.002910)\n",
            "CART: 0.999752 (0.000496)\n",
            "AB: 0.743253 (0.029021)\n",
            "GBM: 0.999876 (0.000190)\n",
            "RF: 0.999710 (0.000372)\n",
            "ET: 0.996606 (0.001370)\n"
          ]
        }
      ]
    },
    {
      "cell_type": "code",
      "source": [
        "# compare algorithms\n",
        "fig = plt.figure()\n",
        "fig.suptitle('Algorithm Comparison')\n",
        "ax = fig.add_subplot(111)\n",
        "plt.boxplot(results)\n",
        "ax.set_xticklabels(names)\n",
        "fig.set_size_inches(8,4)\n",
        "plt.show()"
      ],
      "metadata": {
        "colab": {
          "base_uri": "https://localhost:8080/",
          "height": 408
        },
        "id": "SyLYDjkDJfwN",
        "outputId": "9a7b15d2-a80c-4482-afda-ab4ff2c23207"
      },
      "execution_count": null,
      "outputs": [
        {
          "output_type": "display_data",
          "data": {
            "text/plain": [
              "<Figure size 800x400 with 1 Axes>"
            ],
            "image/png": "[encoded data removed]"
          },
          "metadata": {}
        }
      ]
    },
    {
      "cell_type": "code",
      "source": [
        "# prepare model\n",
        "model = GradientBoostingClassifier()\n",
        "model.fit(X_train, Y_train)"
      ],
      "metadata": {
        "colab": {
          "base_uri": "https://localhost:8080/",
          "height": 74
        },
        "id": "dSOmKxwIKRs4",
        "outputId": "b03c2f3f-6306-4444-f6cc-7c23bc00a5e0"
      },
      "execution_count": null,
      "outputs": [
        {
          "output_type": "execute_result",
          "data": {
            "text/plain": [
              "GradientBoostingClassifier()"
            ],
            "text/html": [
              "<style>#sk-container-id-1 {color: black;background-color: white;}#sk-container-id-1 pre{padding: 0;}#sk-container-id-1 div.sk-toggleable {background-color: white;}#sk-container-id-1 label.sk-toggleable__label {cursor: pointer;display: block;width: 100%;margin-bottom: 0;padding: 0.3em;box-sizing: border-box;text-align: center;}#sk-container-id-1 label.sk-toggleable__label-arrow:before {content: \"▸\";float: left;margin-right: 0.25em;color: #696969;}#sk-container-id-1 label.sk-toggleable__label-arrow:hover:before {color: black;}#sk-container-id-1 div.sk-estimator:hover label.sk-toggleable__label-arrow:before {color: black;}#sk-container-id-1 div.sk-toggleable__content {max-height: 0;max-width: 0;overflow: hidden;text-align: left;background-color: #f0f8ff;}#sk-container-id-1 div.sk-toggleable__content pre {margin: 0.2em;color: black;border-radius: 0.25em;background-color: #f0f8ff;}#sk-container-id-1 input.sk-toggleable__control:checked~div.sk-toggleable__content {max-height: 200px;max-width: 100%;overflow: auto;}#sk-container-id-1 input.sk-toggleable__control:checked~label.sk-toggleable__label-arrow:before {content: \"▾\";}#sk-container-id-1 div.sk-estimator input.sk-toggleable__control:checked~label.sk-toggleable__label {background-color: #d4ebff;}#sk-container-id-1 div.sk-label input.sk-toggleable__control:checked~label.sk-toggleable__label {background-color: #d4ebff;}#sk-container-id-1 input.sk-hidden--visually {border: 0;clip: rect(1px 1px 1px 1px);clip: rect(1px, 1px, 1px, 1px);height: 1px;margin: -1px;overflow: hidden;padding: 0;position: absolute;width: 1px;}#sk-container-id-1 div.sk-estimator {font-family: monospace;background-color: #f0f8ff;border: 1px dotted black;border-radius: 0.25em;box-sizing: border-box;margin-bottom: 0.5em;}#sk-container-id-1 div.sk-estimator:hover {background-color: #d4ebff;}#sk-container-id-1 div.sk-parallel-item::after {content: \"\";width: 100%;border-bottom: 1px solid gray;flex-grow: 1;}#sk-container-id-1 div.sk-label:hover label.sk-toggleable__label {background-color: #d4ebff;}#sk-container-id-1 div.sk-serial::before {content: \"\";position: absolute;border-left: 1px solid gray;box-sizing: border-box;top: 0;bottom: 0;left: 50%;z-index: 0;}#sk-container-id-1 div.sk-serial {display: flex;flex-direction: column;align-items: center;background-color: white;padding-right: 0.2em;padding-left: 0.2em;position: relative;}#sk-container-id-1 div.sk-item {position: relative;z-index: 1;}#sk-container-id-1 div.sk-parallel {display: flex;align-items: stretch;justify-content: center;background-color: white;position: relative;}#sk-container-id-1 div.sk-item::before, #sk-container-id-1 div.sk-parallel-item::before {content: \"\";position: absolute;border-left: 1px solid gray;box-sizing: border-box;top: 0;bottom: 0;left: 50%;z-index: -1;}#sk-container-id-1 div.sk-parallel-item {display: flex;flex-direction: column;z-index: 1;position: relative;background-color: white;}#sk-container-id-1 div.sk-parallel-item:first-child::after {align-self: flex-end;width: 50%;}#sk-container-id-1 div.sk-parallel-item:last-child::after {align-self: flex-start;width: 50%;}#sk-container-id-1 div.sk-parallel-item:only-child::after {width: 0;}#sk-container-id-1 div.sk-dashed-wrapped {border: 1px dashed gray;margin: 0 0.4em 0.5em 0.4em;box-sizing: border-box;padding-bottom: 0.4em;background-color: white;}#sk-container-id-1 div.sk-label label {font-family: monospace;font-weight: bold;display: inline-block;line-height: 1.2em;}#sk-container-id-1 div.sk-label-container {text-align: center;}#sk-container-id-1 div.sk-container {/* jupyter's `normalize.less` sets `[hidden] { display: none; }` but bootstrap.min.css set `[hidden] { display: none !important; }` so we also need the `!important` here to be able to override the default hidden behavior on the sphinx rendered scikit-learn.org. See: https://github.com/scikit-learn/scikit-learn/issues/21755 */display: inline-block !important;position: relative;}#sk-container-id-1 div.sk-text-repr-fallback {display: none;}</style><div id=\"sk-container-id-1\" class=\"sk-top-container\"><div class=\"sk-text-repr-fallback\"><pre>GradientBoostingClassifier()</pre><b>In a Jupyter environment, please rerun this cell to show the HTML representation or trust the notebook. <br />On GitHub, the HTML representation is unable to render, please try loading this page with nbviewer.org.</b></div><div class=\"sk-container\" hidden><div class=\"sk-item\"><div class=\"sk-estimator sk-toggleable\"><input class=\"sk-toggleable__control sk-hidden--visually\" id=\"sk-estimator-id-1\" type=\"checkbox\" checked><label for=\"sk-estimator-id-1\" class=\"sk-toggleable__label sk-toggleable__label-arrow\">GradientBoostingClassifier</label><div class=\"sk-toggleable__content\"><pre>GradientBoostingClassifier()</pre></div></div></div></div></div>"
            ]
          },
          "metadata": {},
          "execution_count": 80
        }
      ]
    },
    {
      "cell_type": "code",
      "source": [
        "predictions = model.predict(X_validation)\n",
        "print(accuracy_score(Y_validation, predictions))\n",
        "print(confusion_matrix(Y_validation, predictions))\n",
        "print(classification_report(Y_validation, predictions))"
      ],
      "metadata": {
        "colab": {
          "base_uri": "https://localhost:8080/"
        },
        "id": "AUxBVrcbKfzf",
        "outputId": "6a75b741-5fff-45f8-a3fe-ed1f3af42469"
      },
      "execution_count": null,
      "outputs": [
        {
          "output_type": "stream",
          "name": "stdout",
          "text": [
            "1.0\n",
            "[[1323    0    0]\n",
            " [   0 3009    0]\n",
            " [   0    0 1710]]\n",
            "              precision    recall  f1-score   support\n",
            "\n",
            "           0       1.00      1.00      1.00      1323\n",
            "           1       1.00      1.00      1.00      3009\n",
            "           2       1.00      1.00      1.00      1710\n",
            "\n",
            "    accuracy                           1.00      6042\n",
            "   macro avg       1.00      1.00      1.00      6042\n",
            "weighted avg       1.00      1.00      1.00      6042\n",
            "\n"
          ]
        }
      ]
    },
    {
      "cell_type": "code",
      "source": [
        "df_cm = pd.DataFrame(confusion_matrix(Y_validation, predictions), columns=np.unique(Y_validation), index = np.unique(Y_validation))\n",
        "df_cm.index.name = 'Actual'\n",
        "df_cm.columns.name = 'Predicted'\n",
        "sns.heatmap(df_cm, cmap=\"Blues\", annot=True, annot_kws={\"size\": 16})# font size"
      ],
      "metadata": {
        "colab": {
          "base_uri": "https://localhost:8080/",
          "height": 471
        },
        "id": "9uSwRn7EKw_1",
        "outputId": "2f6a5b43-578e-48a1-cb5d-01d61c5469c3"
      },
      "execution_count": null,
      "outputs": [
        {
          "output_type": "execute_result",
          "data": {
            "text/plain": [
              "<Axes: xlabel='Predicted', ylabel='Actual'>"
            ]
          },
          "metadata": {},
          "execution_count": 82
        },
        {
          "output_type": "display_data",
          "data": {
            "text/plain": [
              "<Figure size 640x480 with 2 Axes>"
            ],
            "image/png": "[encoded data removed]"
          },
          "metadata": {}
        }
      ]
    }
  ]
}